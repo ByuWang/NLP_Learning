{
 "cells": [
  {
   "cell_type": "markdown",
   "metadata": {},
   "source": [
    "# 第一部分：课堂代码复现"
   ]
  },
  {
   "cell_type": "markdown",
   "metadata": {},
   "source": [
    "### 一：针对特定语法生成句子 \n",
    "思路：对树梢结构，直接用随机选择的方式\n",
    "         对可再分结构， 使用递归方式返回子成分 \n",
    "         \n",
    "存疑：adj_star是否使用lambda的区别"
   ]
  },
  {
   "cell_type": "code",
   "execution_count": 3,
   "metadata": {
    "ExecuteTime": {
     "end_time": "2019-07-05T05:12:59.985406Z",
     "start_time": "2019-07-05T05:12:59.982690Z"
    }
   },
   "outputs": [],
   "source": [
    "simple_grammar = \"\"\"\n",
    "sentence => noun_phrase verb_phrase\n",
    "noun_phrase => Article Adj* noun\n",
    "Adj* => null | Adj Adj*\n",
    "verb_phrase => verb noun_phrase\n",
    "Article =>  一个 | 这个\n",
    "noun =>   女人 |  篮球 | 桌子 | 小猫\n",
    "verb => 看着   |  坐在 |  听着 | 看见\n",
    "Adj =>  蓝色的 | 好看的 | 小小的\n",
    "\"\"\""
   ]
  },
  {
   "cell_type": "code",
   "execution_count": 4,
   "metadata": {
    "ExecuteTime": {
     "end_time": "2019-07-05T05:13:01.231610Z",
     "start_time": "2019-07-05T05:13:01.229418Z"
    }
   },
   "outputs": [],
   "source": [
    "import random"
   ]
  },
  {
   "cell_type": "code",
   "execution_count": 5,
   "metadata": {
    "ExecuteTime": {
     "end_time": "2019-07-05T05:13:02.935435Z",
     "start_time": "2019-07-05T05:13:02.930967Z"
    }
   },
   "outputs": [],
   "source": [
    "def adj(): return random.choice('蓝色的 | 好看的 | 小小的'.split('|')).split()[0]\n",
    "def noun(): return random.choice('女人 |  篮球 | 桌子 | 小猫'.split('|')).split()[0]\n",
    "def verb(): return random.choice('看着   |  坐在 |  听着 | 看见'.split('|')).split()[0]\n",
    "def article(): return random.choice('一个 | 这个'.split('|')).split()[0]\n",
    "def adj_star(): return random.choice([lambda:'',lambda:adj()+adj_star()])()\n",
    "#def adj_star():return random.choice(['',adj()+adj_star()])\n",
    "def noun_phrase(): return article()+adj_star()+noun()\n",
    "def verb_phrase(): return verb()+noun_phrase()\n",
    "def sentence(): return noun_phrase()+verb_phrase()"
   ]
  },
  {
   "cell_type": "code",
   "execution_count": 6,
   "metadata": {
    "ExecuteTime": {
     "end_time": "2019-07-05T05:13:04.077923Z",
     "start_time": "2019-07-05T05:13:04.068595Z"
    }
   },
   "outputs": [
    {
     "data": {
      "text/plain": [
       "'这个小小的好看的小小的女人看着这个蓝色的好看的篮球'"
      ]
     },
     "execution_count": 6,
     "metadata": {},
     "output_type": "execute_result"
    }
   ],
   "source": [
    "sentence()"
   ]
  },
  {
   "cell_type": "markdown",
   "metadata": {},
   "source": [
    "### 二： 根据语法规则自动生成句子\n",
    "思路：只要按照一定规则书写的语法，可以自动拆解语法中的各个成分，创建语法规则函数"
   ]
  },
  {
   "cell_type": "code",
   "execution_count": 7,
   "metadata": {
    "ExecuteTime": {
     "end_time": "2019-07-05T05:13:06.250418Z",
     "start_time": "2019-07-05T05:13:06.244131Z"
    }
   },
   "outputs": [
    {
     "data": {
      "text/plain": [
       "{'sentence': [['noun_phrase', 'verb_phrase']],\n",
       " 'noun_phrase': [['Article', 'Adj*', 'noun']],\n",
       " 'Adj*': [['null'], ['Adj', 'Adj*']],\n",
       " 'verb_phrase': [['verb', 'noun_phrase']],\n",
       " 'Article': [['一个'], ['这个']],\n",
       " 'noun': [['女人'], ['篮球'], ['桌子'], ['小猫']],\n",
       " 'verb': [['看着'], ['坐在'], ['听着'], ['看见']],\n",
       " 'Adj': [['蓝色的'], ['好看的'], ['小小的']]}"
      ]
     },
     "execution_count": 7,
     "metadata": {},
     "output_type": "execute_result"
    }
   ],
   "source": [
    "def createGrammar(grammar, split_='=>'):\n",
    "    grammar_dict = {}\n",
    "    for line in grammar.split('\\n'):\n",
    "        if not line: continue\n",
    "        grammar_name, comp = line.split(split_)\n",
    "        grammar_dict[grammar_name.split()[0]] = [i.split() for i in comp.split('|')] ## 这一句是重点， 对每个i还要再细分\n",
    "    return grammar_dict\n",
    "createGrammar(simple_grammar)"
   ]
  },
  {
   "cell_type": "code",
   "execution_count": 8,
   "metadata": {
    "ExecuteTime": {
     "end_time": "2019-07-05T05:13:07.678140Z",
     "start_time": "2019-07-05T05:13:07.672528Z"
    }
   },
   "outputs": [
    {
     "data": {
      "text/plain": [
       "'这个小小的好看的篮球看见一个好看的蓝色的小猫'"
      ]
     },
     "execution_count": 8,
     "metadata": {},
     "output_type": "execute_result"
    }
   ],
   "source": [
    "def generate_(grammar_exp, target):#  target的子成分 由generate函数递归生成, grammar_exp是未经处理的文本类型的语法规则\n",
    "    grammar_dict = createGrammar(grammar_exp)\n",
    "    sub_generate = random.choice(grammar_dict[target])\n",
    "    if sub_generate[0] not in grammar_dict:\n",
    "        if sub_generate[0] == 'null':return ''\n",
    "        else: return sub_generate[0]\n",
    "    else: \n",
    "        return ''.join([generate_(grammar_exp,sub_target)  for sub_target in sub_generate ])\n",
    "\n",
    "generate_(simple_grammar,'sentence')"
   ]
  },
  {
   "cell_type": "code",
   "execution_count": 9,
   "metadata": {
    "ExecuteTime": {
     "end_time": "2019-07-05T05:13:08.700394Z",
     "start_time": "2019-07-05T05:13:08.697280Z"
    }
   },
   "outputs": [],
   "source": [
    "def generate(grammar_dict,target):\n",
    "    if target not in grammar_dict: return target\n",
    "    expand = [generate(grammar_dict,sub_target) for sub_target in random.choice(grammar_dict[target])]\n",
    "    return ''.join([t if t != '\\n'  else '\\n' for t in expand if t != 'null'])\n"
   ]
  },
  {
   "cell_type": "code",
   "execution_count": 10,
   "metadata": {
    "ExecuteTime": {
     "end_time": "2019-07-05T05:13:13.664426Z",
     "start_time": "2019-07-05T05:13:13.660126Z"
    }
   },
   "outputs": [
    {
     "data": {
      "text/plain": [
       "'这个蓝色的好看的小猫坐在这个小小的小小的好看的小小的篮球'"
      ]
     },
     "execution_count": 10,
     "metadata": {},
     "output_type": "execute_result"
    }
   ],
   "source": [
    "grammar_dict = createGrammar(simple_grammar)\n",
    "generate(grammar_dict,'sentence')"
   ]
  },
  {
   "cell_type": "code",
   "execution_count": 11,
   "metadata": {
    "ExecuteTime": {
     "end_time": "2019-07-05T05:13:14.333713Z",
     "start_time": "2019-07-05T05:13:14.329686Z"
    }
   },
   "outputs": [],
   "source": [
    "#在西部世界里，一个”人类“的语言可以定义为：\n",
    "\n",
    "human = \"\"\"\n",
    "human = 自己 寻找 活动\n",
    "自己 = 我 | 俺 | 我们 \n",
    "寻找 = 找找 | 想找点 \n",
    "活动 = 乐子 | 玩的\n",
    "\"\"\"\n",
    "\n",
    "\n",
    "#一个“接待员”的语言可以定义为\n",
    "\n",
    "host = \"\"\"\n",
    "host = 寒暄 报数 询问 业务相关 结尾 \n",
    "报数 = 我是 数字 号 ,\n",
    "数字 = 单个数字 | 数字 单个数字 \n",
    "单个数字 = 1 | 2 | 3 | 4 | 5 | 6 | 7 | 8 | 9 \n",
    "寒暄 = 称谓 打招呼 | 打招呼\n",
    "称谓 = 人称 ,\n",
    "人称 = 先生 | 女士 | 小朋友\n",
    "打招呼 = 你好 | 您好 \n",
    "询问 = 请问你要 | 您需要\n",
    "业务相关 = 玩玩 具体业务\n",
    "玩玩 = null\n",
    "具体业务 = 喝酒 | 打牌 | 打猎 | 赌博\n",
    "结尾 = 吗？\n",
    "\"\"\""
   ]
  },
  {
   "cell_type": "code",
   "execution_count": 12,
   "metadata": {
    "ExecuteTime": {
     "end_time": "2019-07-05T05:13:15.511675Z",
     "start_time": "2019-07-05T05:13:15.507060Z"
    }
   },
   "outputs": [
    {
     "data": {
      "text/plain": [
       "'小朋友,您好我是6号,请问你要赌博吗？'"
      ]
     },
     "execution_count": 12,
     "metadata": {},
     "output_type": "execute_result"
    }
   ],
   "source": [
    "host_dict = createGrammar(host,split_='=')\n",
    "generate(host_dict,'host')"
   ]
  },
  {
   "cell_type": "code",
   "execution_count": 13,
   "metadata": {
    "ExecuteTime": {
     "end_time": "2019-07-05T05:13:20.200881Z",
     "start_time": "2019-07-05T05:13:20.198043Z"
    }
   },
   "outputs": [],
   "source": [
    "programming = \"\"\"\n",
    "stmt => if_exp | while_exp | assignment \n",
    "assignment => var = var\n",
    "if_exp => if ( var ) { /n .... stmt }\n",
    "while_exp=> while ( var ) { /n .... stmt }\n",
    "var => chars number\n",
    "chars => char | char char\n",
    "char => student | name | info  | database | course\n",
    "number => 1 | 2 | 3\n",
    "\"\"\""
   ]
  },
  {
   "cell_type": "code",
   "execution_count": 14,
   "metadata": {
    "ExecuteTime": {
     "end_time": "2019-07-05T05:13:20.725517Z",
     "start_time": "2019-07-05T05:13:20.721382Z"
    },
    "scrolled": true
   },
   "outputs": [
    {
     "name": "stdout",
     "output_type": "stream",
     "text": [
      "if(infoname2){/n....if(coursecourse3){/n....info2=nameinfo1}}\n"
     ]
    }
   ],
   "source": [
    "program_dict = createGrammar(programming,split_='=>')\n",
    "print(generate(program_dict,'stmt'))"
   ]
  },
  {
   "cell_type": "markdown",
   "metadata": {},
   "source": [
    "### 三：根据概率模型判断句子出现概率\n",
    "思路：用正则提取出文章中的正常字符，分词，统计词频（使用collection模块的Counter函数），计算1-gram模型的词频和2-gram的词频，分别去计算得到的句子的出现的概率"
   ]
  },
  {
   "cell_type": "code",
   "execution_count": 15,
   "metadata": {
    "ExecuteTime": {
     "end_time": "2019-07-05T05:13:25.083706Z",
     "start_time": "2019-07-05T05:13:24.358286Z"
    }
   },
   "outputs": [],
   "source": [
    "import pandas as pd"
   ]
  },
  {
   "cell_type": "code",
   "execution_count": 16,
   "metadata": {
    "ExecuteTime": {
     "end_time": "2019-07-05T05:13:27.423109Z",
     "start_time": "2019-07-05T05:13:25.085251Z"
    }
   },
   "outputs": [],
   "source": [
    "file = pd.read_csv('/Users/admin/A_NLP/datasource-master/sqlResult_1558435.csv',encoding='gb18030')"
   ]
  },
  {
   "cell_type": "code",
   "execution_count": 185,
   "metadata": {
    "ExecuteTime": {
     "end_time": "2019-07-04T13:59:22.249958Z",
     "start_time": "2019-07-04T13:59:22.239388Z"
    }
   },
   "outputs": [
    {
     "data": {
      "text/html": [
       "<div>\n",
       "<style scoped>\n",
       "    .dataframe tbody tr th:only-of-type {\n",
       "        vertical-align: middle;\n",
       "    }\n",
       "\n",
       "    .dataframe tbody tr th {\n",
       "        vertical-align: top;\n",
       "    }\n",
       "\n",
       "    .dataframe thead th {\n",
       "        text-align: right;\n",
       "    }\n",
       "</style>\n",
       "<table border=\"1\" class=\"dataframe\">\n",
       "  <thead>\n",
       "    <tr style=\"text-align: right;\">\n",
       "      <th></th>\n",
       "      <th>id</th>\n",
       "      <th>author</th>\n",
       "      <th>source</th>\n",
       "      <th>content</th>\n",
       "      <th>feature</th>\n",
       "      <th>title</th>\n",
       "      <th>url</th>\n",
       "    </tr>\n",
       "  </thead>\n",
       "  <tbody>\n",
       "    <tr>\n",
       "      <th>0</th>\n",
       "      <td>89617</td>\n",
       "      <td>NaN</td>\n",
       "      <td>快科技@http://www.kkj.cn/</td>\n",
       "      <td>此外，自本周（6月12日）起，除小米手机6等15款机型外，其余机型已暂停更新发布（含开发版/...</td>\n",
       "      <td>{\"type\":\"科技\",\"site\":\"cnbeta\",\"commentNum\":\"37\"...</td>\n",
       "      <td>小米MIUI 9首批机型曝光：共计15款</td>\n",
       "      <td>http://www.cnbeta.com/articles/tech/623597.htm</td>\n",
       "    </tr>\n",
       "    <tr>\n",
       "      <th>1</th>\n",
       "      <td>89616</td>\n",
       "      <td>NaN</td>\n",
       "      <td>快科技@http://www.kkj.cn/</td>\n",
       "      <td>骁龙835作为唯一通过Windows 10桌面平台认证的ARM处理器，高通强调，不会因为只考...</td>\n",
       "      <td>{\"type\":\"科技\",\"site\":\"cnbeta\",\"commentNum\":\"15\"...</td>\n",
       "      <td>骁龙835在Windows 10上的性能表现有望改善</td>\n",
       "      <td>http://www.cnbeta.com/articles/tech/623599.htm</td>\n",
       "    </tr>\n",
       "  </tbody>\n",
       "</table>\n",
       "</div>"
      ],
      "text/plain": [
       "      id author                  source  \\\n",
       "0  89617    NaN  快科技@http://www.kkj.cn/   \n",
       "1  89616    NaN  快科技@http://www.kkj.cn/   \n",
       "\n",
       "                                             content  \\\n",
       "0  此外，自本周（6月12日）起，除小米手机6等15款机型外，其余机型已暂停更新发布（含开发版/...   \n",
       "1  骁龙835作为唯一通过Windows 10桌面平台认证的ARM处理器，高通强调，不会因为只考...   \n",
       "\n",
       "                                             feature  \\\n",
       "0  {\"type\":\"科技\",\"site\":\"cnbeta\",\"commentNum\":\"37\"...   \n",
       "1  {\"type\":\"科技\",\"site\":\"cnbeta\",\"commentNum\":\"15\"...   \n",
       "\n",
       "                        title                                             url  \n",
       "0        小米MIUI 9首批机型曝光：共计15款  http://www.cnbeta.com/articles/tech/623597.htm  \n",
       "1  骁龙835在Windows 10上的性能表现有望改善  http://www.cnbeta.com/articles/tech/623599.htm  "
      ]
     },
     "execution_count": 185,
     "metadata": {},
     "output_type": "execute_result"
    }
   ],
   "source": [
    "file.head(2)"
   ]
  },
  {
   "cell_type": "code",
   "execution_count": 17,
   "metadata": {
    "ExecuteTime": {
     "end_time": "2019-07-05T05:13:28.744128Z",
     "start_time": "2019-07-05T05:13:28.741517Z"
    }
   },
   "outputs": [],
   "source": [
    "import re\n",
    "def token(string):\n",
    "    return re.findall('\\w+',string)"
   ]
  },
  {
   "cell_type": "code",
   "execution_count": 193,
   "metadata": {
    "ExecuteTime": {
     "end_time": "2019-07-04T14:05:59.296004Z",
     "start_time": "2019-07-04T14:05:59.291750Z"
    }
   },
   "outputs": [
    {
     "data": {
      "text/plain": [
       "['骁龙835作为唯一通过Windows', '10桌面平台认证的ARM处理器', '高通强调', '不会因为只考']"
      ]
     },
     "execution_count": 193,
     "metadata": {},
     "output_type": "execute_result"
    }
   ],
   "source": [
    "token('骁龙835作为唯一通过Windows 10桌面平台认证的ARM处理器，高通强调，不会因为只考..')"
   ]
  },
  {
   "cell_type": "code",
   "execution_count": 19,
   "metadata": {
    "ExecuteTime": {
     "end_time": "2019-07-05T05:14:07.854023Z",
     "start_time": "2019-07-05T05:14:07.840914Z"
    }
   },
   "outputs": [],
   "source": [
    "articles = file['content'].tolist()"
   ]
  },
  {
   "cell_type": "code",
   "execution_count": 20,
   "metadata": {
    "ExecuteTime": {
     "end_time": "2019-07-05T05:14:09.911746Z",
     "start_time": "2019-07-05T05:14:08.401503Z"
    },
    "scrolled": true
   },
   "outputs": [],
   "source": [
    "clean_articles =  [''.join(token(str(a))) for a in articles]"
   ]
  },
  {
   "cell_type": "code",
   "execution_count": 240,
   "metadata": {
    "ExecuteTime": {
     "end_time": "2019-07-04T22:23:21.939238Z",
     "start_time": "2019-07-04T22:21:20.684345Z"
    }
   },
   "outputs": [],
   "source": [
    "import jieba\n",
    "TOKEN = []\n",
    "for a in clean_articles:\n",
    "    TOKEN += jieba.cut(a)"
   ]
  },
  {
   "cell_type": "code",
   "execution_count": 250,
   "metadata": {
    "ExecuteTime": {
     "end_time": "2019-07-05T01:13:04.770692Z",
     "start_time": "2019-07-05T01:13:04.768593Z"
    }
   },
   "outputs": [],
   "source": [
    "token_len = len(TOKEN)"
   ]
  },
  {
   "cell_type": "code",
   "execution_count": 243,
   "metadata": {
    "ExecuteTime": {
     "end_time": "2019-07-05T00:48:27.088757Z",
     "start_time": "2019-07-05T00:48:27.086573Z"
    }
   },
   "outputs": [],
   "source": [
    "from collections import Counter"
   ]
  },
  {
   "cell_type": "code",
   "execution_count": 251,
   "metadata": {
    "ExecuteTime": {
     "end_time": "2019-07-05T01:13:11.538805Z",
     "start_time": "2019-07-05T01:13:09.603236Z"
    }
   },
   "outputs": [],
   "source": [
    "token_counts = Counter(TOKEN)"
   ]
  },
  {
   "cell_type": "code",
   "execution_count": 252,
   "metadata": {
    "ExecuteTime": {
     "end_time": "2019-07-05T01:13:12.753818Z",
     "start_time": "2019-07-05T01:13:12.693038Z"
    },
    "scrolled": true
   },
   "outputs": [
    {
     "data": {
      "text/plain": [
       "[('的', 703716),\n",
       " ('n', 382020),\n",
       " ('在', 263597),\n",
       " ('月', 189330),\n",
       " ('日', 166300),\n",
       " ('新华社', 142462),\n",
       " ('和', 134061),\n",
       " ('年', 123106),\n",
       " ('了', 121938),\n",
       " ('是', 100909)]"
      ]
     },
     "execution_count": 252,
     "metadata": {},
     "output_type": "execute_result"
    }
   ],
   "source": [
    "token_counts.most_common(10)"
   ]
  },
  {
   "cell_type": "code",
   "execution_count": 296,
   "metadata": {
    "ExecuteTime": {
     "end_time": "2019-07-05T02:37:37.215286Z",
     "start_time": "2019-07-05T02:37:32.760556Z"
    },
    "scrolled": true
   },
   "outputs": [
    {
     "data": {
      "text/plain": [
       "[<matplotlib.lines.Line2D at 0x17d835fd0>]"
      ]
     },
     "execution_count": 296,
     "metadata": {},
     "output_type": "execute_result"
    },
    {
     "data": {
      "image/png": "[encoded data removed]",
      "text/plain": [
       "<Figure size 432x288 with 1 Axes>"
      ]
     },
     "metadata": {},
     "output_type": "display_data"
    }
   ],
   "source": [
    "% matplotlib inline\n",
    "import matplotlib.pyplot as plt\n",
    "x = [i for i in range(100)]\n",
    "frequence = [f for w,f in token_counts.most_common(100)]\n",
    "plt.plot(x,frequence)"
   ]
  },
  {
   "cell_type": "code",
   "execution_count": 297,
   "metadata": {
    "ExecuteTime": {
     "end_time": "2019-07-05T02:38:34.594013Z",
     "start_time": "2019-07-05T02:38:34.495322Z"
    }
   },
   "outputs": [
    {
     "data": {
      "text/plain": [
       "[<matplotlib.lines.Line2D at 0x17d8cb358>]"
      ]
     },
     "execution_count": 297,
     "metadata": {},
     "output_type": "execute_result"
    },
    {
     "data": {
      "image/png": "[encoded data removed]",
      "text/plain": [
       "<Figure size 432x288 with 1 Axes>"
      ]
     },
     "metadata": {},
     "output_type": "display_data"
    }
   ],
   "source": [
    "import numpy as np\n",
    "plt.plot(x,np.log(frequence))"
   ]
  },
  {
   "cell_type": "code",
   "execution_count": 21,
   "metadata": {
    "ExecuteTime": {
     "end_time": "2019-07-05T05:14:21.857123Z",
     "start_time": "2019-07-05T05:14:21.854764Z"
    }
   },
   "outputs": [],
   "source": [
    "def prob_1(word):\n",
    "    return token_counts[word]/token_len"
   ]
  },
  {
   "cell_type": "code",
   "execution_count": 254,
   "metadata": {
    "ExecuteTime": {
     "end_time": "2019-07-05T01:13:53.254513Z",
     "start_time": "2019-07-05T01:13:53.250578Z"
    }
   },
   "outputs": [
    {
     "data": {
      "text/plain": [
       "0.0011399627455473877"
      ]
     },
     "execution_count": 254,
     "metadata": {},
     "output_type": "execute_result"
    }
   ],
   "source": [
    "prob_1('我们')"
   ]
  },
  {
   "cell_type": "code",
   "execution_count": 255,
   "metadata": {
    "ExecuteTime": {
     "end_time": "2019-07-05T01:38:49.358477Z",
     "start_time": "2019-07-05T01:38:45.712857Z"
    }
   },
   "outputs": [],
   "source": [
    "TOKEN2 = [TOKEN[i]+TOKEN[i+1] for i in range((len(TOKEN)-1))]"
   ]
  },
  {
   "cell_type": "code",
   "execution_count": 259,
   "metadata": {
    "ExecuteTime": {
     "end_time": "2019-07-05T01:45:06.430273Z",
     "start_time": "2019-07-05T01:45:06.427803Z"
    }
   },
   "outputs": [],
   "source": [
    "token2_len = len(TOKEN2)"
   ]
  },
  {
   "cell_type": "code",
   "execution_count": 256,
   "metadata": {
    "ExecuteTime": {
     "end_time": "2019-07-05T01:38:56.818431Z",
     "start_time": "2019-07-05T01:38:56.814501Z"
    },
    "scrolled": true
   },
   "outputs": [
    {
     "data": {
      "text/plain": [
       "['此外自', '自本周', '本周6', '6月', '月12', '12日起', '日起除', '除小米', '小米手机', '手机6']"
      ]
     },
     "execution_count": 256,
     "metadata": {},
     "output_type": "execute_result"
    }
   ],
   "source": [
    "TOKEN2[:10]"
   ]
  },
  {
   "cell_type": "code",
   "execution_count": 257,
   "metadata": {
    "ExecuteTime": {
     "end_time": "2019-07-05T01:42:34.011209Z",
     "start_time": "2019-07-05T01:42:28.017076Z"
    }
   },
   "outputs": [],
   "source": [
    "token_counts2 = Counter(TOKEN2)"
   ]
  },
  {
   "cell_type": "code",
   "execution_count": 258,
   "metadata": {
    "ExecuteTime": {
     "end_time": "2019-07-05T01:42:55.264178Z",
     "start_time": "2019-07-05T01:42:54.720790Z"
    }
   },
   "outputs": [
    {
     "data": {
      "text/plain": [
       "[('n新华社', 74664),\n",
       " ('2017年', 61480),\n",
       " ('外代二线', 61301),\n",
       " ('日n', 52293),\n",
       " ('新华社照片', 50401),\n",
       " ('5月', 37977),\n",
       " ('4月', 34571),\n",
       " ('新华社记者', 30864),\n",
       " ('２０', 27166),\n",
       " ('日在', 27154)]"
      ]
     },
     "execution_count": 258,
     "metadata": {},
     "output_type": "execute_result"
    }
   ],
   "source": [
    "token_counts2.most_common(10)"
   ]
  },
  {
   "cell_type": "code",
   "execution_count": 22,
   "metadata": {
    "ExecuteTime": {
     "end_time": "2019-07-05T05:14:27.641250Z",
     "start_time": "2019-07-05T05:14:27.638548Z"
    }
   },
   "outputs": [],
   "source": [
    "def pro_2(word1,word2):\n",
    "    if word1+word2 in TOKEN2:  return token_counts2[word1+word2]/token2_len\n",
    "    else: return 1/token2_len"
   ]
  },
  {
   "cell_type": "code",
   "execution_count": 261,
   "metadata": {
    "ExecuteTime": {
     "end_time": "2019-07-05T01:46:00.214678Z",
     "start_time": "2019-07-05T01:46:00.211336Z"
    }
   },
   "outputs": [
    {
     "data": {
      "text/plain": [
       "3.069262296531585e-05"
      ]
     },
     "execution_count": 261,
     "metadata": {},
     "output_type": "execute_result"
    }
   ],
   "source": [
    "pro_2('我们','在')"
   ]
  },
  {
   "cell_type": "code",
   "execution_count": 262,
   "metadata": {
    "ExecuteTime": {
     "end_time": "2019-07-05T01:46:53.119964Z",
     "start_time": "2019-07-05T01:46:53.116145Z"
    }
   },
   "outputs": [
    {
     "data": {
      "text/plain": [
       "2.224929917560071e-06"
      ]
     },
     "execution_count": 262,
     "metadata": {},
     "output_type": "execute_result"
    }
   ],
   "source": [
    "pro_2('在','街上')"
   ]
  },
  {
   "cell_type": "code",
   "execution_count": 23,
   "metadata": {
    "ExecuteTime": {
     "end_time": "2019-07-05T05:14:29.479406Z",
     "start_time": "2019-07-05T05:14:29.476332Z"
    }
   },
   "outputs": [],
   "source": [
    "def sentence_pro(sentence):\n",
    "    total_pro = 1\n",
    "    words = list(jieba.cut(sentence))\n",
    "    for i, word in enumerate(words[:-1]):\n",
    "        next_word = words[i+1]\n",
    "        total_pro *= pro_2(word,next_word)\n",
    "    return total_pro\n",
    "        "
   ]
  },
  {
   "cell_type": "code",
   "execution_count": 289,
   "metadata": {
    "ExecuteTime": {
     "end_time": "2019-07-05T02:04:51.375598Z",
     "start_time": "2019-07-05T02:04:50.904462Z"
    }
   },
   "outputs": [
    {
     "data": {
      "text/plain": [
       "3.254643746255006e-15"
      ]
     },
     "execution_count": 289,
     "metadata": {},
     "output_type": "execute_result"
    }
   ],
   "source": [
    "sentence_pro('养乐多绿来一杯')"
   ]
  },
  {
   "cell_type": "code",
   "execution_count": 290,
   "metadata": {
    "ExecuteTime": {
     "end_time": "2019-07-05T02:05:50.567584Z",
     "start_time": "2019-07-05T02:05:45.014248Z"
    },
    "scrolled": false
   },
   "outputs": [
    {
     "name": "stdout",
     "output_type": "stream",
     "text": [
      "今天晚上请你吃大餐，我们一起吃日料 is more possible\n",
      "---- 今天晚上请你吃大餐，我们一起吃日料 with probility 1.9877949356148648e-66\n",
      "---- 明天晚上请你吃大餐，我们一起吃苹果 with probility 1.590235948491892e-66\n",
      "真是一只好看的小猫 is more possible\n",
      "---- 真事一只好看的小猫 with probility 4.641088649507633e-34\n",
      "---- 真是一只好看的小猫 with probility 8.135198142748278e-27\n",
      "今晚我去吃火锅 is more possible\n",
      "---- 今晚我去吃火锅 with probility 3.453568946204909e-20\n",
      "---- 今晚火锅去吃我 with probility 5.508207075819147e-28\n",
      "养乐多绿来一杯 is more possible\n",
      "---- 洋葱奶昔来一杯 with probility 1.8567574979596284e-22\n",
      "---- 养乐多绿来一杯 with probility 3.254643746255006e-15\n"
     ]
    }
   ],
   "source": [
    "need_compared = [\n",
    "    \"今天晚上请你吃大餐，我们一起吃日料 明天晚上请你吃大餐，我们一起吃苹果\",\n",
    "    \"真事一只好看的小猫 真是一只好看的小猫\",\n",
    "    \"今晚我去吃火锅 今晚火锅去吃我\",\n",
    "    \"洋葱奶昔来一杯 养乐多绿来一杯\"\n",
    "]\n",
    "for s in need_compared:\n",
    "    s1, s2 = s.split()\n",
    "    p1, p2 = sentence_pro(s1), sentence_pro(s2)\n",
    "    \n",
    "    better = s1 if p1 > p2 else s2\n",
    "    \n",
    "    print('{} is more possible'.format(better))\n",
    "    print('-'*4 + ' {} with probility {}'.format(s1, p1))\n",
    "    print('-'*4 + ' {} with probility {}'.format(s2, p2))"
   ]
  },
  {
   "cell_type": "markdown",
   "metadata": {},
   "source": [
    "# 第二部分 基础理论部分"
   ]
  },
  {
   "cell_type": "markdown",
   "metadata": {},
   "source": [
    "#### 0. Can you come up out 3 sceneraies which use AI methods? "
   ]
  },
  {
   "cell_type": "markdown",
   "metadata": {},
   "source": [
    "Ans: { 智能问答系统，智能推荐系统， 图像识别}"
   ]
  },
  {
   "cell_type": "markdown",
   "metadata": {},
   "source": [
    "#### 1. How do we use Github; Why do we use Jupyter and Pycharm;"
   ]
  },
  {
   "cell_type": "markdown",
   "metadata": {},
   "source": [
    "Ans: {\n",
    "1.对github了解的不够深入， 目前知道github两种下载方式，一个是用git工具可以同步项目到本地， 直接Download只能下载静态文件，如果想下载单个文件可以利用DownGit这个工具。针对自己感兴趣的项目，可以用star的方式进行收藏\n",
    "2.Jupyter可以进行交互式编程，且运行过的代码变量会一直保留在内存中， 不必每次跑程序把全部程序全部跑一遍，在实验和平时调试时是一个很好用的工具\n",
    "3.pycharm主要是工程性的项目用的比较多， 需要一次跑完所有代码或者项目最后集成的时候可以在pycharm中进行}"
   ]
  },
  {
   "cell_type": "markdown",
   "metadata": {},
   "source": [
    "#### 2. What's the Probability Model?"
   ]
  },
  {
   "cell_type": "markdown",
   "metadata": {},
   "source": [
    "Ans:\n",
    "概率模型是能够表示一个或多个变量出现不同结果的几率的模型\n"
   ]
  },
  {
   "cell_type": "markdown",
   "metadata": {},
   "source": [
    "#### 3. Can you came up with some sceneraies at which we could use Probability Model?"
   ]
  },
  {
   "cell_type": "markdown",
   "metadata": {},
   "source": [
    "Ans: 抽签，抛色子"
   ]
  },
  {
   "cell_type": "markdown",
   "metadata": {},
   "source": [
    "#### 4. Why do we use probability and what's the difficult points for programming based on parsing and pattern match?"
   ]
  },
  {
   "cell_type": "markdown",
   "metadata": {},
   "source": [
    "Ans:在许多情形下可根据已知的概率模型对有可能发生的事件概率做预估，选出最有可能发生的事件。"
   ]
  },
  {
   "cell_type": "markdown",
   "metadata": {},
   "source": [
    "#### 5. What's the Language Model;"
   ]
  },
  {
   "cell_type": "markdown",
   "metadata": {},
   "source": [
    "Ans:\n",
    "Language Model模型一般指n-gram模型，这个n的含义是一个词出现的概率只和与其前(n-1)个词有关。如2-gram概率模型可以用如下公式表述：\n",
    "P(w1w2w3w4) = P(w1)*P(w2/w1)*P(w3/w2)*P(w4/w3)"
   ]
  },
  {
   "cell_type": "markdown",
   "metadata": {},
   "source": [
    "#### 6. Can you came up with some sceneraies at which we could use Language Model?\n"
   ]
  },
  {
   "cell_type": "markdown",
   "metadata": {},
   "source": [
    "Ans:\n",
    "自然语言生成时对生成的候选的句子进行择优"
   ]
  },
  {
   "cell_type": "markdown",
   "metadata": {},
   "source": [
    "#### 7. What's the 1-gram language model;"
   ]
  },
  {
   "cell_type": "markdown",
   "metadata": {},
   "source": [
    "Ans:\n",
    "1-gram language model 是假设每个词语之间没有联系，彼此的出现都是相互独立的"
   ]
  },
  {
   "cell_type": "markdown",
   "metadata": {},
   "source": [
    "#### 8. What's the disadvantages and advantages of 1-gram language model;"
   ]
  },
  {
   "cell_type": "markdown",
   "metadata": {},
   "source": [
    "Ans: \n",
    "缺点: 会在使用时出现一些问题，比如句子生成时，由于假设每个词语之间没有联系， 会导致生成的句子没有实际意义。\n",
    "优点：模型简单， 计算量会少很多"
   ]
  },
  {
   "cell_type": "markdown",
   "metadata": {},
   "source": [
    "#### 9. What't the 2-gram models;"
   ]
  },
  {
   "cell_type": "markdown",
   "metadata": {},
   "source": [
    "Ans:\n",
    "P(w1w2w3w4) = P(w1)*P(w2/w1)*P(w3/w2)*P(w4/w3)"
   ]
  },
  {
   "cell_type": "markdown",
   "metadata": {},
   "source": [
    "# 第三部分 编程实践"
   ]
  },
  {
   "cell_type": "markdown",
   "metadata": {},
   "source": [
    "### 一：定义自己的语法"
   ]
  },
  {
   "cell_type": "code",
   "execution_count": 106,
   "metadata": {
    "ExecuteTime": {
     "end_time": "2019-07-05T06:48:12.590803Z",
     "start_time": "2019-07-05T06:48:12.588360Z"
    }
   },
   "outputs": [],
   "source": [
    "gram1 = \"\"\"\n",
    "句子 => 业务 功能点 特性\n",
    "业务 => app | 网页 | 用户界面 |客户端\n",
    "功能点 => 验证 | 跳转 | 输入 | 更新 | null\n",
    "特性 => 太慢 | 太丑 | 太差\n",
    "\"\"\""
   ]
  },
  {
   "cell_type": "code",
   "execution_count": 95,
   "metadata": {
    "ExecuteTime": {
     "end_time": "2019-07-05T06:32:47.243876Z",
     "start_time": "2019-07-05T06:32:47.240300Z"
    }
   },
   "outputs": [
    {
     "data": {
      "text/plain": [
       "'客户端验证太差'"
      ]
     },
     "execution_count": 95,
     "metadata": {},
     "output_type": "execute_result"
    }
   ],
   "source": [
    "grammar_dict = createGrammar(gram1)\n",
    "generate(grammar_dict,'产品经理')"
   ]
  },
  {
   "cell_type": "code",
   "execution_count": 137,
   "metadata": {
    "ExecuteTime": {
     "end_time": "2019-07-05T07:09:49.354337Z",
     "start_time": "2019-07-05T07:09:49.351642Z"
    }
   },
   "outputs": [],
   "source": [
    "gram2 = \"\"\"\n",
    "句子 => 指代 角度 描述\n",
    "指代 => 这个 | 此 | 该 |\n",
    "角度 => 电影 | 片子 | 情节 | 装备 | 环境 | 背景 | 道具 | 台词 | 演员\n",
    "描述 => 程度 特点\n",
    "程度 => 非常 | 有点 | 太 | 简直 |\n",
    "特点 => 乱 | 恐怖 | 扯淡 | 差 | 还行 | 凑合 | 烂 | 好 | 精彩 | 激动 | 美\n",
    "\"\"\""
   ]
  },
  {
   "cell_type": "code",
   "execution_count": 109,
   "metadata": {
    "ExecuteTime": {
     "end_time": "2019-07-05T06:48:23.183508Z",
     "start_time": "2019-07-05T06:48:23.179259Z"
    }
   },
   "outputs": [
    {
     "data": {
      "text/plain": [
       "'此环境简直烂'"
      ]
     },
     "execution_count": 109,
     "metadata": {},
     "output_type": "execute_result"
    }
   ],
   "source": [
    "grammar_dict = createGrammar(gram2)\n",
    "generate(grammar_dict,'句子')"
   ]
  },
  {
   "cell_type": "markdown",
   "metadata": {},
   "source": [
    "### 二：扩展generate函数一次生成n个句子"
   ]
  },
  {
   "cell_type": "code",
   "execution_count": 110,
   "metadata": {
    "ExecuteTime": {
     "end_time": "2019-07-05T06:48:29.955674Z",
     "start_time": "2019-07-05T06:48:29.952584Z"
    }
   },
   "outputs": [],
   "source": [
    "def generate_n(n,grammar_dict,target):\n",
    "    sentences = []\n",
    "    for i in range(n):\n",
    "        sentences.append(generate(grammar_dict,target))\n",
    "    return sentences"
   ]
  },
  {
   "cell_type": "code",
   "execution_count": 111,
   "metadata": {
    "ExecuteTime": {
     "end_time": "2019-07-05T06:48:30.492778Z",
     "start_time": "2019-07-05T06:48:30.489171Z"
    }
   },
   "outputs": [
    {
     "data": {
      "text/plain": [
       "['这个台词有点烂', '环境非常好', '此装备非常凑合', '此演员美', '此环境太烂']"
      ]
     },
     "execution_count": 111,
     "metadata": {},
     "output_type": "execute_result"
    }
   ],
   "source": [
    "generate_n(5,grammar_dict,'句子')"
   ]
  },
  {
   "cell_type": "markdown",
   "metadata": {},
   "source": [
    "### 三：使用新数据源完成语言模型的训练"
   ]
  },
  {
   "cell_type": "code",
   "execution_count": 43,
   "metadata": {
    "ExecuteTime": {
     "end_time": "2019-07-05T05:33:02.583651Z",
     "start_time": "2019-07-05T05:33:02.581217Z"
    }
   },
   "outputs": [],
   "source": [
    "import pandas as pd"
   ]
  },
  {
   "cell_type": "code",
   "execution_count": 44,
   "metadata": {
    "ExecuteTime": {
     "end_time": "2019-07-05T05:34:01.990516Z",
     "start_time": "2019-07-05T05:34:01.303212Z"
    }
   },
   "outputs": [
    {
     "name": "stderr",
     "output_type": "stream",
     "text": [
      "/Users/admin/anaconda3/lib/python3.6/site-packages/IPython/core/interactiveshell.py:2785: DtypeWarning: Columns (0,4) have mixed types. Specify dtype option on import or set low_memory=False.\n",
      "  interactivity=interactivity, compiler=compiler, result=result)\n"
     ]
    }
   ],
   "source": [
    "data = pd.read_csv('/Users/admin/A_NLP/datasource-master/movie_comments.csv')"
   ]
  },
  {
   "cell_type": "code",
   "execution_count": 46,
   "metadata": {
    "ExecuteTime": {
     "end_time": "2019-07-05T05:34:29.210176Z",
     "start_time": "2019-07-05T05:34:29.200721Z"
    }
   },
   "outputs": [
    {
     "data": {
      "text/html": [
       "<div>\n",
       "<style scoped>\n",
       "    .dataframe tbody tr th:only-of-type {\n",
       "        vertical-align: middle;\n",
       "    }\n",
       "\n",
       "    .dataframe tbody tr th {\n",
       "        vertical-align: top;\n",
       "    }\n",
       "\n",
       "    .dataframe thead th {\n",
       "        text-align: right;\n",
       "    }\n",
       "</style>\n",
       "<table border=\"1\" class=\"dataframe\">\n",
       "  <thead>\n",
       "    <tr style=\"text-align: right;\">\n",
       "      <th></th>\n",
       "      <th>id</th>\n",
       "      <th>link</th>\n",
       "      <th>name</th>\n",
       "      <th>comment</th>\n",
       "      <th>star</th>\n",
       "    </tr>\n",
       "  </thead>\n",
       "  <tbody>\n",
       "    <tr>\n",
       "      <th>0</th>\n",
       "      <td>1</td>\n",
       "      <td>https://movie.douban.com/subject/26363254/</td>\n",
       "      <td>战狼2</td>\n",
       "      <td>吴京意淫到了脑残的地步，看了恶心想吐</td>\n",
       "      <td>1</td>\n",
       "    </tr>\n",
       "    <tr>\n",
       "      <th>1</th>\n",
       "      <td>2</td>\n",
       "      <td>https://movie.douban.com/subject/26363254/</td>\n",
       "      <td>战狼2</td>\n",
       "      <td>首映礼看的。太恐怖了这个电影，不讲道理的，完全就是吴京在实现他这个小粉红的英雄梦。各种装备轮...</td>\n",
       "      <td>2</td>\n",
       "    </tr>\n",
       "    <tr>\n",
       "      <th>2</th>\n",
       "      <td>3</td>\n",
       "      <td>https://movie.douban.com/subject/26363254/</td>\n",
       "      <td>战狼2</td>\n",
       "      <td>吴京的炒作水平不输冯小刚，但小刚至少不会用主旋律来炒作…吴京让人看了不舒服，为了主旋律而主旋...</td>\n",
       "      <td>2</td>\n",
       "    </tr>\n",
       "  </tbody>\n",
       "</table>\n",
       "</div>"
      ],
      "text/plain": [
       "  id                                        link name  \\\n",
       "0  1  https://movie.douban.com/subject/26363254/  战狼2   \n",
       "1  2  https://movie.douban.com/subject/26363254/  战狼2   \n",
       "2  3  https://movie.douban.com/subject/26363254/  战狼2   \n",
       "\n",
       "                                             comment star  \n",
       "0                                 吴京意淫到了脑残的地步，看了恶心想吐    1  \n",
       "1  首映礼看的。太恐怖了这个电影，不讲道理的，完全就是吴京在实现他这个小粉红的英雄梦。各种装备轮...    2  \n",
       "2  吴京的炒作水平不输冯小刚，但小刚至少不会用主旋律来炒作…吴京让人看了不舒服，为了主旋律而主旋...    2  "
      ]
     },
     "execution_count": 46,
     "metadata": {},
     "output_type": "execute_result"
    }
   ],
   "source": [
    "data.head(3)"
   ]
  },
  {
   "cell_type": "code",
   "execution_count": 48,
   "metadata": {
    "ExecuteTime": {
     "end_time": "2019-07-05T05:36:25.385394Z",
     "start_time": "2019-07-05T05:36:25.376892Z"
    }
   },
   "outputs": [],
   "source": [
    "comments = data['comment'].tolist()"
   ]
  },
  {
   "cell_type": "code",
   "execution_count": 51,
   "metadata": {
    "ExecuteTime": {
     "end_time": "2019-07-05T05:43:51.448842Z",
     "start_time": "2019-07-05T05:43:51.445358Z"
    }
   },
   "outputs": [
    {
     "data": {
      "text/plain": [
       "['首映礼看的', '太恐怖了这个电影', '不讲道理的', '完全就是吴京在实现他这个小粉红的英雄梦']"
      ]
     },
     "execution_count": 51,
     "metadata": {},
     "output_type": "execute_result"
    }
   ],
   "source": [
    "token('首映礼看的。太恐怖了这个电影，不讲道理的，完全就是吴京在实现他这个小粉红的英雄梦。')  "
   ]
  },
  {
   "cell_type": "code",
   "execution_count": 54,
   "metadata": {
    "ExecuteTime": {
     "end_time": "2019-07-05T05:51:20.123688Z",
     "start_time": "2019-07-05T05:51:19.466747Z"
    }
   },
   "outputs": [],
   "source": [
    "clean_comments =''.join([''.join(token(str(comment))) for comment in comments])"
   ]
  },
  {
   "cell_type": "code",
   "execution_count": 59,
   "metadata": {
    "ExecuteTime": {
     "end_time": "2019-07-05T05:55:51.410749Z",
     "start_time": "2019-07-05T05:55:04.217374Z"
    }
   },
   "outputs": [
    {
     "name": "stderr",
     "output_type": "stream",
     "text": [
      "Building prefix dict from the default dictionary ...\n",
      "Loading model from cache /var/folders/f7/94hwsc710mscyzml4tk3x7_40000gn/T/jieba.cache\n",
      "Loading model cost 0.653 seconds.\n",
      "Prefix dict has been built succesfully.\n"
     ]
    }
   ],
   "source": [
    "import jieba\n",
    "TOKEN_movie = list(jieba.cut(clean_comments))"
   ]
  },
  {
   "cell_type": "code",
   "execution_count": 60,
   "metadata": {
    "ExecuteTime": {
     "end_time": "2019-07-05T05:55:52.392278Z",
     "start_time": "2019-07-05T05:55:51.412612Z"
    }
   },
   "outputs": [],
   "source": [
    "TOKEN2_movie = [TOKEN_movie[i]+TOKEN_movie[i+1] for i in range(len(TOKEN_movie)-1)]"
   ]
  },
  {
   "cell_type": "code",
   "execution_count": 61,
   "metadata": {
    "ExecuteTime": {
     "end_time": "2019-07-05T05:56:22.905140Z",
     "start_time": "2019-07-05T05:56:22.900179Z"
    }
   },
   "outputs": [
    {
     "data": {
      "text/plain": [
       "(4487034, 4487033)"
      ]
     },
     "execution_count": 61,
     "metadata": {},
     "output_type": "execute_result"
    }
   ],
   "source": [
    "length1 = len(TOKEN_movie)\n",
    "length2 = len(TOKEN2_movie)\n",
    "length1,length2"
   ]
  },
  {
   "cell_type": "code",
   "execution_count": 63,
   "metadata": {
    "ExecuteTime": {
     "end_time": "2019-07-05T06:00:02.941998Z",
     "start_time": "2019-07-05T06:00:02.937925Z"
    }
   },
   "outputs": [
    {
     "data": {
      "text/plain": [
       "(['吴京', '意淫', '到', '了', '脑残', '的', '地步', '看', '了', '恶心'],\n",
       " ['吴京意淫', '意淫到', '到了', '了脑残', '脑残的', '的地步', '地步看', '看了', '了恶心', '恶心想'])"
      ]
     },
     "execution_count": 63,
     "metadata": {},
     "output_type": "execute_result"
    }
   ],
   "source": [
    "TOKEN_movie[:10],TOKEN2_movie[:10]"
   ]
  },
  {
   "cell_type": "code",
   "execution_count": 65,
   "metadata": {
    "ExecuteTime": {
     "end_time": "2019-07-05T06:03:39.927673Z",
     "start_time": "2019-07-05T06:03:38.209245Z"
    },
    "scrolled": true
   },
   "outputs": [
    {
     "data": {
      "text/plain": [
       "[('的电影', 8631),\n",
       " ('看的', 7075),\n",
       " ('都是', 6335),\n",
       " ('让人', 5278),\n",
       " ('的故事', 4707),\n",
       " ('看了', 4538),\n",
       " ('也是', 4407),\n",
       " ('的时候', 4398),\n",
       " ('的是', 4348),\n",
       " ('的人', 4344)]"
      ]
     },
     "execution_count": 65,
     "metadata": {},
     "output_type": "execute_result"
    }
   ],
   "source": [
    "from cobllections import Counter\n",
    "counts2gram = Counter(TOKEN2_movie)\n",
    "counts2gram.most_common(10)"
   ]
  },
  {
   "cell_type": "code",
   "execution_count": 84,
   "metadata": {
    "ExecuteTime": {
     "end_time": "2019-07-05T06:17:46.871387Z",
     "start_time": "2019-07-05T06:17:46.868626Z"
    }
   },
   "outputs": [],
   "source": [
    "def prob_gramm2(word1,word2,corpus):\n",
    "    if word1+word2 in corpus: return corpus[word1+word2]/length2\n",
    "    else: return 1/length2"
   ]
  },
  {
   "cell_type": "code",
   "execution_count": 88,
   "metadata": {
    "ExecuteTime": {
     "end_time": "2019-07-05T06:18:16.692948Z",
     "start_time": "2019-07-05T06:18:16.688477Z"
    }
   },
   "outputs": [
    {
     "data": {
      "text/plain": [
       "(2.1394984168826037e-05, 0.001923542795428516)"
      ]
     },
     "execution_count": 88,
     "metadata": {},
     "output_type": "execute_result"
    }
   ],
   "source": [
    "prob_gramm2('我们','在',counts2gram),prob_gramm2('的','电影',counts2gram)"
   ]
  },
  {
   "cell_type": "code",
   "execution_count": 93,
   "metadata": {
    "ExecuteTime": {
     "end_time": "2019-07-05T06:20:38.115387Z",
     "start_time": "2019-07-05T06:20:38.110109Z"
    }
   },
   "outputs": [
    {
     "data": {
      "text/plain": [
       "4.828861490419077e-19"
      ]
     },
     "execution_count": 93,
     "metadata": {},
     "output_type": "execute_result"
    }
   ],
   "source": [
    "def sentence_prob(sentence,corpus):\n",
    "    cuts = list(jieba.cut(sentence))\n",
    "    sen_prob = 1\n",
    "    for i,w in enumerate(cuts[:-1]):\n",
    "        sen_prob *= prob_gramm2(cuts[i],cuts[i+1],corpus)\n",
    "    return sen_prob\n",
    "\n",
    "\n",
    "sentence_prob( '太恐怖了这个电影',counts2gram)\n",
    "            "
   ]
  },
  {
   "cell_type": "markdown",
   "metadata": {},
   "source": [
    "### 四：获得最优质的的语言"
   ]
  },
  {
   "cell_type": "code",
   "execution_count": 140,
   "metadata": {
    "ExecuteTime": {
     "end_time": "2019-07-05T07:09:59.720717Z",
     "start_time": "2019-07-05T07:09:59.713721Z"
    }
   },
   "outputs": [
    {
     "name": "stdout",
     "output_type": "stream",
     "text": [
      "生成的句子及概率如下： \n",
      "\n",
      "('这个电影还行', 6.3617504729578e-13)\n",
      "('环境非常恐怖', 1.9867419600013748e-13)\n",
      "('背景简直凑合', 4.966854900003437e-14)\n",
      "('此演员乱', 4.966854900003437e-14)\n",
      "('该台词乱', 4.966854900003437e-14)\n",
      "('该装备太精彩', 4.966854900003437e-14)\n",
      "('这个片子有点激动', 9.122917380787777e-16)\n",
      "('这个演员太恐怖', 2.3112807575088432e-16)\n",
      "('该片子简直凑合', 1.439015797299567e-19)\n",
      "('这个背景有点美', 8.855481829535797e-20)\n"
     ]
    },
    {
     "data": {
      "text/plain": [
       "'这个电影还行'"
      ]
     },
     "execution_count": 140,
     "metadata": {},
     "output_type": "execute_result"
    }
   ],
   "source": [
    "def generate_best(gram, model, n):\n",
    "    grammar_dict = createGrammar(gram2)\n",
    "    sentences = generate_n(n,grammar_dict,'句子')\n",
    "    sentence_probs = [sentence_prob(s,model) for s in sentences]\n",
    "    sentence_zip = list(zip(sentences,sentence_probs))\n",
    "    sentence_sorted = sorted(sentence_zip,key=lambda x:x[1],reverse=True)\n",
    "    print('生成的句子及概率如下： \\n')\n",
    "    for s in sentence_sorted:\n",
    "        print(s)\n",
    "    return sentence_sorted[0][0]\n",
    "\n",
    "generate_best(gram1,counts2gram,10)"
   ]
  },
  {
   "cell_type": "code",
   "execution_count": null,
   "metadata": {},
   "outputs": [],
   "source": []
  }
 ],
 "metadata": {
  "kernelspec": {
   "display_name": "Python 3",
   "language": "python",
   "name": "python3"
  },
  "language_info": {
   "codemirror_mode": {
    "name": "ipython",
    "version": 3
   },
   "file_extension": ".py",
   "mimetype": "text/x-python",
   "name": "python",
   "nbconvert_exporter": "python",
   "pygments_lexer": "ipython3",
   "version": "3.6.5"
  }
 },
 "nbformat": 4,
 "nbformat_minor": 2
}
